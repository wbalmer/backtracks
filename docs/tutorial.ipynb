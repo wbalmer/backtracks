{
 "cells": [
  {
   "cell_type": "markdown",
   "id": "7eed1901",
   "metadata": {},
   "source": [
    "# Tutorial"
   ]
  },
  {
   "cell_type": "markdown",
   "id": "09b2a5cd",
   "metadata": {},
   "source": [
    "Start by downloading the astrometry data to the local working folder:"
   ]
  },
  {
   "cell_type": "code",
   "execution_count": 1,
   "id": "7e2912ca-607b-40c9-b4c1-e4edc44463a7",
   "metadata": {},
   "outputs": [
    {
     "name": "stdout",
     "output_type": "stream",
     "text": [
      "--2023-12-19 10:22:35--  https://raw.githubusercontent.com/wbalmer/backtrack/main/tests/scorpions1b_orbitizelike.csv\n",
      "Resolving raw.githubusercontent.com (raw.githubusercontent.com)... 185.199.110.133, 185.199.109.133, 185.199.108.133, ...\n",
      "Connecting to raw.githubusercontent.com (raw.githubusercontent.com)|185.199.110.133|:443... connected.\n",
      "HTTP request sent, awaiting response... 200 OK\n",
      "Length: 831 [text/plain]\n",
      "Saving to: ‘scorpions1b_orbitizelike.csv’\n",
      "\n",
      "scorpions1b_orbitiz 100%[===================>]     831  --.-KB/s    in 0s      \n",
      "\n",
      "2023-12-19 10:22:35 (99.1 MB/s) - ‘scorpions1b_orbitizelike.csv’ saved [831/831]\n",
      "\n"
     ]
    }
   ],
   "source": [
    "!wget https://raw.githubusercontent.com/wbalmer/backtrack/main/tests/scorpions1b_orbitizelike.csv"
   ]
  },
  {
   "cell_type": "code",
   "execution_count": 2,
   "id": "f8ef3ec5-449a-458d-bdc4-ce7f64053123",
   "metadata": {},
   "outputs": [],
   "source": [
    "from backtracks import system"
   ]
  },
  {
   "cell_type": "code",
   "execution_count": 3,
   "id": "23323c76-5999-4cf9-8f83-75e19d775d02",
   "metadata": {},
   "outputs": [
    {
     "name": "stdout",
     "output_type": "stream",
     "text": [
      "[BACKTRACK INFO]: Resolved the target star 'HD 131399A' in Simbad!\n",
      "[BACKTRACK INFO]: Resolved target's Gaia ID from Simbad, Gaia DR3 6204835284262018688\n",
      "INFO: Query finished. [astroquery.utils.tap.core]\n",
      "[BACKTRACK INFO]: gathered target Gaia data\n",
      "INFO: Query finished. [astroquery.utils.tap.core]\n",
      "[BACKTRACK INFO]: gathered 6445 Gaia objects from the 0.5 sq. deg. nearby HD 131399A\n",
      "[BACKTRACK INFO]: Finished nearby background gaia statistics\n",
      "[BACKTRACK INFO]: Queried distance prior parameters, L=2524.23, alpha=1.05, beta=0.62\n",
      "[BACKTRACK INFO]: Opened ephemeris file\n",
      "[BACKTRACK INFO]: made cat entry for host\n",
      "[BACKTRACK INFO]: transformed cat entry for host\n"
     ]
    }
   ],
   "source": [
    "track = system(target_name=\"HD 131399A\",\n",
    "               candidate_file=\"scorpions1b_orbitizelike.csv\",\n",
    "               nearby_window=0.5,\n",
    "               fileprefix='./')"
   ]
  },
  {
   "cell_type": "code",
   "execution_count": 4,
   "id": "e25f5b54-25f5-43b3-91d9-67d1c48b27cb",
   "metadata": {},
   "outputs": [
    {
     "name": "stdout",
     "output_type": "stream",
     "text": [
      "[BACKTRACK INFO]: Beginning sampling, I hope\n"
     ]
    },
    {
     "name": "stderr",
     "output_type": "stream",
     "text": [
      "iter: 4781 | +200 | bound: 50 | nc: 1 | ncall: 21942 | eff(%): 22.910 | loglstar:   -inf < -100.256 <    inf | logz: -123.364 +/-  0.336 | dlogz:  0.002 >  0.500                                     "
     ]
    }
   ],
   "source": [
    "results = track.fit(dlogz=0.5, npool=4, dynamic=False, nlive=200, mpi_pool=False, resume=False)"
   ]
  },
  {
   "cell_type": "code",
   "execution_count": 5,
   "id": "ee2a682a-230a-45e8-a149-93a24fa5b72f",
   "metadata": {},
   "outputs": [],
   "source": [
    "track.save_results(fileprefix='./')"
   ]
  },
  {
   "cell_type": "code",
   "execution_count": 6,
   "id": "102c8cb3-12d9-44e3-8a11-7e092f267d2f",
   "metadata": {},
   "outputs": [],
   "source": [
    "track.load_results(fileprefix='./')"
   ]
  },
  {
   "cell_type": "code",
   "execution_count": 7,
   "id": "2cc755fe-8f11-489b-ab0b-1b21ce76e02b",
   "metadata": {},
   "outputs": [],
   "source": [
    "%%capture\n",
    "\n",
    "fig_track, fig_post, fig_diag, fig_prior, fig_hood = \\\n",
    "    track.generate_plots(days_backward=3.*365.,\n",
    "                         days_forward=3.*365,\n",
    "                         step_size=100.,\n",
    "                         ref_epoch=None,\n",
    "                         plot_radec=False,\n",
    "                         plot_stationary=True,\n",
    "                         fileprefix='./',\n",
    "                         filepost='.png')"
   ]
  },
  {
   "cell_type": "code",
   "execution_count": 8,
   "id": "ceacd47c-4f57-4c30-b1db-253559447d94",
   "metadata": {},
   "outputs": [
    {
     "name": "stdout",
     "output_type": "stream",
     "text": [
      "HD_131399A_bjprior_backtracks.png       HD_131399A_model_backtracks.png\n",
      "HD_131399A_corner_backtracks.png        HD_131399A_nearby_gaia_distribution.png\n",
      "HD_131399A_evidence_backtracks.png\n"
     ]
    }
   ],
   "source": [
    "! ls *png"
   ]
  }
 ],
 "metadata": {
  "kernelspec": {
   "display_name": "Python 3 (ipykernel)",
   "language": "python",
   "name": "python3"
  },
  "language_info": {
   "codemirror_mode": {
    "name": "ipython",
    "version": 3
   },
   "file_extension": ".py",
   "mimetype": "text/x-python",
   "name": "python",
   "nbconvert_exporter": "python",
   "pygments_lexer": "ipython3",
   "version": "3.11.5"
  }
 },
 "nbformat": 4,
 "nbformat_minor": 5
}
